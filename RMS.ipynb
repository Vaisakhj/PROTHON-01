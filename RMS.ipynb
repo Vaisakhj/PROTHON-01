{
 "cells": [
  {
   "cell_type": "code",
   "execution_count": 2,
   "metadata": {},
   "outputs": [
    {
     "name": "stdout",
     "output_type": "stream",
     "text": [
      "20,30,50,40\n",
      "36.742346141747674\n"
     ]
    }
   ],
   "source": [
    "import math  \n",
    " \n",
    "def rmsValue(arr, n): \n",
    "    square = 0\n",
    "    mean = 0.0\n",
    "    root = 0.0\n",
    "      \n",
    "    for i in range(0,n):\n",
    "        square += (arr[i]**2) \n",
    "    mean = (square / (int)(n)) \n",
    "    root = math.sqrt(mean)  \n",
    "    return root \n",
    "\n",
    "if __name__=='__main__': \n",
    "    ar = input()\n",
    "    lis = ar.split(\",\")\n",
    "    arr = []\n",
    "    for i in lis:\n",
    "        arr.append(float(i))\n",
    "    n = len(arr) \n",
    "    print(rmsValue(arr, n))"
   ]
  },
  {
   "cell_type": "code",
   "execution_count": null,
   "metadata": {},
   "outputs": [],
   "source": []
  }
 ],
 "metadata": {
  "kernelspec": {
   "display_name": "Python 3",
   "language": "python",
   "name": "python3"
  },
  "language_info": {
   "codemirror_mode": {
    "name": "ipython",
    "version": 3
   },
   "file_extension": ".py",
   "mimetype": "text/x-python",
   "name": "python",
   "nbconvert_exporter": "python",
   "pygments_lexer": "ipython3",
   "version": "3.7.1"
  }
 },
 "nbformat": 4,
 "nbformat_minor": 2
}
